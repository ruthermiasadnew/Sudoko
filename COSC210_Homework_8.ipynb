{
 "cells": [
  {
   "cell_type": "markdown",
   "id": "70dc6051-20f5-4cb6-bfc1-b36db136e7bc",
   "metadata": {},
   "source": [
    "# Sudoku Group"
   ]
  },
  {
   "cell_type": "markdown",
   "id": "8c26549a-2192-4d1e-a279-2946181d4f11",
   "metadata": {},
   "source": [
    "### Mid-Week Exercise"
   ]
  },
  {
   "cell_type": "code",
   "execution_count": 31,
   "id": "d4c9dd5d-1d75-4752-a46b-064658a7a018",
   "metadata": {},
   "outputs": [
    {
     "name": "stdout",
     "output_type": "stream",
     "text": [
      "GRADE AVERAGER\n",
      "(enter \"stop\" to quit)\n"
     ]
    },
    {
     "name": "stdin",
     "output_type": "stream",
     "text": [
      "Enter student grades: 45\n",
      "Enter student grades: forty\n"
     ]
    },
    {
     "name": "stdout",
     "output_type": "stream",
     "text": [
      "Strings are not accepted. Try again.\n"
     ]
    },
    {
     "name": "stdin",
     "output_type": "stream",
     "text": [
      "Enter student grades: 40\n",
      "Enter student grades: 50\n",
      "Enter student grades: stop\n"
     ]
    },
    {
     "name": "stdout",
     "output_type": "stream",
     "text": [
      "\n",
      "Sending grades to file...\n",
      "Calculating grade average...\n",
      "\n",
      "The average of the 3 grades is 45.0\n"
     ]
    }
   ],
   "source": [
    "def gather_grades():\n",
    "    #create list to use when adding numbers to the grade file\n",
    "    grade_list = []\n",
    "    grade_file = open('grades.txt', 'w')\n",
    "    #gather input and keep repeating until it is decided to quit\n",
    "    while True:\n",
    "        grade = input('Enter student grades:')\n",
    "        try: #receive an input and try to evaluate it\n",
    "            grade = eval(grade)\n",
    "        except:\n",
    "            if grade == \"stop\": #if the input cannot be evaluated, check to see if it is equal to \"stop\"\n",
    "                print()\n",
    "                print(\"Sending grades to file...\")\n",
    "            else: #if it is not \"stop\", prompt for a number instead of a string\n",
    "                print(\"Strings are not accepted. Try again.\")\n",
    "        else: #if input is evaluated, add it to the list then ask for another input\n",
    "            grade_list.append(grade)\n",
    "        finally: #if \"stop\" is entered, print every grade to the file and end the loop\n",
    "            if grade == \"stop\":\n",
    "                for grade in grade_list:\n",
    "                    print(grade, end=',', file=grade_file)\n",
    "                break\n",
    "\n",
    "def average_grades():\n",
    "    print(\"Calculating grade average...\")\n",
    "    #create list and file info again, except reading the file this time\n",
    "    grade_list = []\n",
    "    grade_file = open('grades.txt', 'r')\n",
    "    #for every line in the grade file (of which there should be one) add each number separated by ',' to the list\n",
    "    for row in grade_file:\n",
    "        grade_list += row.rstrip(',').split(',')\n",
    "    #create a total by adding every number to the list\n",
    "    total = 0\n",
    "    for grade in grade_list:\n",
    "        total += eval(grade)\n",
    "    #create the average by dividing the total by the length of the list (which is how many numbers there are)\n",
    "    average = total/len(grade_list)\n",
    "    print()\n",
    "    #print the average\n",
    "    print(\"The average of the\", len(grade_list), \"grades is\", average)\n",
    "\n",
    "def main():\n",
    "    print(\"GRADE AVERAGER\", '(enter \"stop\" to quit)', sep='\\n')\n",
    "    gather_grades()\n",
    "    average_grades()\n",
    "\n",
    "main()"
   ]
  },
  {
   "cell_type": "markdown",
   "id": "64a28d0d-f857-410e-8f2d-63edc516ed01",
   "metadata": {},
   "source": [
    "### Homework 8"
   ]
  },
  {
   "cell_type": "code",
   "execution_count": 29,
   "id": "f667770f-6205-4d9f-8a69-45151c578bc3",
   "metadata": {},
   "outputs": [
    {
     "name": "stdout",
     "output_type": "stream",
     "text": [
      "Here is the Sudoku puzzle itself:\n",
      "020003090068054300700000200850700600000625104100098000000060073597000001004010928\n",
      "\n",
      "Here is the Sudoku puzzle dictionary:\n",
      "{'A1': 0, 'A2': 2, 'A3': 0, 'A4': 0, 'A5': 0, 'A6': 3, 'A7': 0, 'A8': 9, 'A9': 0, 'B1': 0, 'B2': 6, 'B3': 8, 'B4': 0, 'B5': 5, 'B6': 4, 'B7': 3, 'B8': 0, 'B9': 0, 'C1': 7, 'C2': 0, 'C3': 0, 'C4': 0, 'C5': 0, 'C6': 0, 'C7': 2, 'C8': 0, 'C9': 0, 'D1': 8, 'D2': 5, 'D3': 0, 'D4': 7, 'D5': 0, 'D6': 0, 'D7': 6, 'D8': 0, 'D9': 0, 'E1': 0, 'E2': 0, 'E3': 0, 'E4': 6, 'E5': 2, 'E6': 5, 'E7': 1, 'E8': 0, 'E9': 4, 'F1': 1, 'F2': 0, 'F3': 0, 'F4': 0, 'F5': 9, 'F6': 8, 'F7': 0, 'F8': 0, 'F9': 0, 'G1': 0, 'G2': 0, 'G3': 0, 'G4': 0, 'G5': 6, 'G6': 0, 'G7': 0, 'G8': 7, 'G9': 3, 'H1': 5, 'H2': 9, 'H3': 7, 'H4': 0, 'H5': 0, 'H6': 0, 'H7': 0, 'H8': 0, 'H9': 1, 'I1': 0, 'I2': 0, 'I3': 4, 'I4': 0, 'I5': 1, 'I6': 0, 'I7': 9, 'I8': 2, 'I9': 8}\n"
     ]
    }
   ],
   "source": [
    "import random\n",
    "\n",
    "#PRESET NUMBERS AND LETTERS LISTS FOR LOOKING UP SPECIFIC VALUES\n",
    "numbers = ['0', '1', '2', '3', '4', '5', '6', '7', '8', '9']\n",
    "letters = ['A', 'B', 'C', 'D', 'E', 'F', 'G', 'H', 'I']\n",
    "#GENERATE TILE LIST FOR USE IN DICTIONARY\n",
    "tiles = []\n",
    "for item in letters:\n",
    "    for num in numbers[1:]:\n",
    "        tiles.append(item+num)\n",
    "#PULL NUMBERS FROM FILE\n",
    "values_file = open('sudoku.csv', 'r')\n",
    "#there are 1,000,000 puzzles, but line 0 is a title so skip that and search lines 1-1000001\n",
    "puzzle_line = random.randrange(1, 1000002)\n",
    "#enumerate the file so each index and line can be found then find the randomly chosen index\n",
    "values_file.seek(0)\n",
    "for index, line in enumerate(values_file):\n",
    "    if index == puzzle_line:\n",
    "        puzzle_string = line\n",
    "#PUZZLE CREATION\n",
    "#create an empty dictionary\n",
    "puzzle = {}\n",
    "#then for the 81 values in tile_list and puzzle_string, add each combination to the dictionary\n",
    "for number in range(81):\n",
    "    puzzle[tiles[number]] = int(puzzle_string[number])\n",
    "\n",
    "print('Here is the Sudoku puzzle itself:', puzzle_string[0:81], sep='\\n', end='\\n\\n')\n",
    "print('Here is the Sudoku puzzle dictionary:', puzzle, sep='\\n')"
   ]
  }
 ],
 "metadata": {
  "kernelspec": {
   "display_name": "Python 3",
   "language": "python",
   "name": "python3"
  },
  "language_info": {
   "codemirror_mode": {
    "name": "ipython",
    "version": 3
   },
   "file_extension": ".py",
   "mimetype": "text/x-python",
   "name": "python",
   "nbconvert_exporter": "python",
   "pygments_lexer": "ipython3",
   "version": "3.8.8"
  }
 },
 "nbformat": 4,
 "nbformat_minor": 5
}
