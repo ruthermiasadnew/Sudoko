{
 "cells": [
  {
   "cell_type": "code",
   "execution_count": 3,
   "id": "70574896-9cb4-41b7-8d77-0b6d10bcf64b",
   "metadata": {},
   "outputs": [
    {
     "name": "stdout",
     "output_type": "stream",
     "text": [
      "['A1', 'A2', 'A3', 'A4', 'A5', 'A6', 'A7', 'A8', 'A9', 'B1', 'B2', 'B3', 'B4', 'B5', 'B6', 'B7', 'B8', 'B9', 'C1', 'C2', 'C3', 'C4', 'C5', 'C6', 'C7', 'C8', 'C9', 'D1', 'D2', 'D3', 'D4', 'D5', 'D6', 'D7', 'D8', 'D9', 'E1', 'E2', 'E3', 'E4', 'E5', 'E6', 'E7', 'E8', 'E9', 'F1', 'F2', 'F3', 'F4', 'F5', 'F6', 'F7', 'F8', 'F9', 'G1', 'G2', 'G3', 'G4', 'G5', 'G6', 'G7', 'G8', 'G9', 'H1', 'H2', 'H3', 'H4', 'H5', 'H6', 'H7', 'H8', 'H9', 'I1', 'I2', 'I3', 'I4', 'I5', 'I6', 'I7', 'I8', 'I9']\n"
     ]
    }
   ],
   "source": [
    "#PRESETS NUMBERS AND LETTERS LISTS FOR LOOKING UP SPECIFIC VALUES\n",
    "numbers = ['0', '1', '2', '3', '4', '5', '6', '7', '8', '9']\n",
    "letters = ['A', 'B', 'C', 'D', 'E', 'F', 'G', 'H', 'I']\n",
    "#GENERATE TILE LIST FOR USE IN DICTIONARY\n",
    "tiles = []\n",
    "for item in letters:\n",
    "    for num in numbers[1:]:\n",
    "        tiles.append(item+num)\n",
    "#CREATE 15-30 EASY, MEDIUM, HARD PUZZLES AS LISTS WITH THE NUMBER VALUES\n",
    "e1 = []\n",
    "e2 = []\n",
    "e3 = []\n",
    "e4 = []\n",
    "e5 = []\n",
    "m1 = []\n",
    "m2 = []\n",
    "m3 = []\n",
    "m4 = []\n",
    "m5 = []\n",
    "h1 = []\n",
    "h2 = []\n",
    "h3 = []\n",
    "h4 = []\n",
    "h5 = []\n",
    "\n",
    "#CREATE PUZZLE DICTIONARY\n",
    "puzzle = {}\n",
    "counter = 0\n",
    "for item in tiles:\n",
    "    puzzle[item] = e1[counter]\n",
    "    counter += 1\n",
    "    \n",
    "    \n",
    "    \n",
    "    \n",
    "#generate puzzle\n",
    "# "
   ]
  },
  {
   "cell_type": "code",
   "execution_count": null,
   "id": "c2a11d91-d822-4356-992f-8548a34180e1",
   "metadata": {},
   "outputs": [],
   "source": [
    "import random\n",
    "#PRESETS NUMBERS AND LETTERS LISTS FOR LOOKING UP SPECIFIC VALUES\n",
    "numbers = ['0', '1', '2', '3', '4', '5', '6', '7', '8', '9']\n",
    "letters = ['A', 'B', 'C', 'D', 'E', 'F', 'G', 'H', 'I']\n",
    "#GENERATE TILE LIST FOR USE IN DICTIONARY\n",
    "tiles = []\n",
    "for item in letters:\n",
    "    for num in numbers[1:]:\n",
    "        tiles.append(item+num)\n",
    "#PULL NUMBERS FROM FILE\n",
    "values_file = open('sudoku.csv', 'r')\n",
    "values = []\n",
    "counter = 0\n",
    "for row in values_file:\n",
    "    counter += 1\n",
    "print(counter)\n",
    "#CREATE PUZZLE DICTIONARY\n",
    "puzzle = {}\n",
    "counter = 0\n",
    "for item in tiles:\n",
    "    puzzle[item] = e1[counter]\n",
    "    counter += 1"
   ]
  },
  {
   "cell_type": "code",
   "execution_count": 5,
   "id": "03261d0e-4839-4c1b-b9d2-5f918b7b984f",
   "metadata": {},
   "outputs": [
    {
     "name": "stdout",
     "output_type": "stream",
     "text": [
      "1000001\n"
     ]
    }
   ],
   "source": [
    "values_file = open('sudoku.csv', 'r')\n",
    "counter = 0\n",
    "for row in values_file:\n",
    "    counter += 1\n",
    "print(counter)"
   ]
  },
  {
   "cell_type": "code",
   "execution_count": 15,
   "id": "99d5f371-005c-4402-bdaa-eed5ddcbd4f2",
   "metadata": {},
   "outputs": [
    {
     "name": "stdout",
     "output_type": "stream",
     "text": [
      "There are 2 errors in this row.\n",
      "There are 0 errors in this row.\n",
      "There are 0 errors in this row.\n",
      "There are 0 errors in this row.\n"
     ]
    }
   ],
   "source": [
    "#4x4 SUDOKU SOLVER\n",
    "\n",
    "\n",
    "grid = [[0, 1, 1, 0], \n",
    "        [4, 0, 0, 0], \n",
    "        [0, 0, 0, 2], \n",
    "        [0, 3, 0, 0]]\n",
    "\n",
    "numbers = [0, 1, 2, 3, 4]\n",
    "\n",
    "#vertical checker?\n",
    "#for num in numbers[:4]:\n",
    "    #print(grid[num][num-1])\n",
    "\n",
    "#this thing iterates through all numbers horiztonally\n",
    "for num in numbers[:4]:\n",
    "    empty = []\n",
    "    for place in numbers[:4]:\n",
    "        empty.append(grid[num][place])\n",
    "                    \n",
    "def horizontal_test(row):\n",
    "    errors = 0\n",
    "    for num in range(len(row)):\n",
    "        if row[num] != 0:\n",
    "            for value in range(len(row)):\n",
    "                if num != value:\n",
    "                    if row[num] == row[value]:\n",
    "                        errors += 1\n",
    "    print(\"There are\", errors, \"errors in this row.\")\n",
    "\n",
    "\n",
    "for row in grid:\n",
    "    horizontal_test(row)"
   ]
  },
  {
   "cell_type": "code",
   "execution_count": null,
   "id": "5e4a6af6-baaf-42b5-a0a3-8e069514fc9f",
   "metadata": {},
   "outputs": [],
   "source": [
    "import graphics ## If you get an error, it means that graphics.py is not in the same directory as this .ipynb\n",
    "\n",
    "def break_sentence(text):\n",
    "    example_text = \"\"           #An empty string to store the broken up strings\n",
    "    for i in range(0, int(len(text)/60)+1): #Loop through the number of iteration depending on the len\n",
    "        example_text += text[0 + 60*i: 60 + 60*i] + '\\n'        #add a new line every 60 character\n",
    "        \n",
    "    return example_text     #Return the text\n",
    "\n",
    "def main():\n",
    "    '''Example script that creates a textbox with text'''\n",
    "    instruction = \"Welcome to Sudoku Solver. The object of the game is to fill in all the empty spaces with the correct numbers. The game involves a grid of 81 squares, the grid is also divided into nine blocks where each block contains nine squares. Each of the nine boxes has to contain all the numbers one through nine within its squares without any repetition and omission. Each nine square verticale column and each nine square horizontal rows must contain all the numbers one to nine within its squares without any repetition and omission. Using logic, reasoning, and deduction, you must figure out every empty square in the grid, but our Sudoku Solver will use two techniques to solve the sudoku. We are using a timer to see which is the best technique is faster, depending on the difficulty. Which will be faster? Play the game to find out!!!\"\n",
    "\n",
    "    win = graphics.GraphWin(\"Textbox Title\", 500, 400)\n",
    "    \n",
    "    instruction = break_sentence(instruction)\n",
    "\n",
    "    t = graphics.Text(graphics.Point(250,200), instruction)\n",
    "    t.draw(win)\n",
    "    win.getMouse() # Pause to view result -- click on window to close it\n",
    "    win.close()    # Close window when done\n",
    "main()"
   ]
  }
 ],
 "metadata": {
  "kernelspec": {
   "display_name": "Python 3",
   "language": "python",
   "name": "python3"
  },
  "language_info": {
   "codemirror_mode": {
    "name": "ipython",
    "version": 3
   },
   "file_extension": ".py",
   "mimetype": "text/x-python",
   "name": "python",
   "nbconvert_exporter": "python",
   "pygments_lexer": "ipython3",
   "version": "3.8.8"
  }
 },
 "nbformat": 4,
 "nbformat_minor": 5
}
