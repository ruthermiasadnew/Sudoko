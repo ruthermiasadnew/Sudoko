{
 "cells": [
  {
   "cell_type": "code",
   "execution_count": 3,
   "id": "0ba64b34-d8de-47d0-98dc-b2f61656ffa4",
   "metadata": {},
   "outputs": [],
   "source": [
    "import time  # just for demonstration\n",
    "from graphics import *\n",
    "\n",
    "win = GraphWin(\"My Window\", 800, 600)\n",
    "\n",
    "txt = Text(Point(250,100), \"You are a Loser!\")\n",
    "txt.setSize(30)\n",
    "txt.draw(win)\n",
    "\n",
    "time.sleep(3)\n",
    "\n",
    "txt.setText(\"You are a Winner!\")\n",
    "\n",
    "time.sleep(3)\n",
    "\n",
    "win.close()"
   ]
  }
 ],
 "metadata": {
  "kernelspec": {
   "display_name": "Python 3",
   "language": "python",
   "name": "python3"
  },
  "language_info": {
   "codemirror_mode": {
    "name": "ipython",
    "version": 3
   },
   "file_extension": ".py",
   "mimetype": "text/x-python",
   "name": "python",
   "nbconvert_exporter": "python",
   "pygments_lexer": "ipython3",
   "version": "3.8.8"
  }
 },
 "nbformat": 4,
 "nbformat_minor": 5
}
